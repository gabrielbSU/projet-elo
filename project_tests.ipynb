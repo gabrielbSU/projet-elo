{
 "cells": [
  {
   "cell_type": "markdown",
   "id": "71c9fd54",
   "metadata": {},
   "source": [
    "# Présentation du Projet\n",
    "Ce notebook présente le projet `projet-elo`, qui explore les systèmes de classement comme Elo, Glicko et Glicko-2. \n",
    "Nous testerons les principales classes et fonctions pour vérifier leur exactitude et démontrer leur utilisation."
   ]
  },
  {
   "cell_type": "markdown",
   "id": "7f90cf77",
   "metadata": {},
   "source": [
    "## Importation des Modules Nécessaires\n",
    "Nous commençons par importer les modules et classes nécessaires."
   ]
  },
  {
   "cell_type": "code",
   "execution_count": null,
   "id": "129df5b3",
   "metadata": {},
   "outputs": [],
   "source": [
    "# Importation des modules\n",
    "from modele_joueur import Joueur, generer_joueur, Jeu, tournoi_round_robin, tournoi_eliminatoire, tracer_competences, tracer_elo\n",
    "from modele_joueur import tracer_force_elo, tracer_comparaison_evolution_elo, tracer_evolution_elo\n",
    "import numpy as np"
   ]
  },
  {
   "cell_type": "markdown",
   "id": "fe97b23d",
   "metadata": {},
   "source": [
    "## Test de la Classe `Joueur`\n",
    "Nous allons créer un joueur en utilisant la classe `Joueur` et tester ses méthodes."
   ]
  },
  {
   "cell_type": "code",
   "execution_count": null,
   "id": "aafc4c79",
   "metadata": {},
   "outputs": [],
   "source": [
    "# Création d'un joueur\n",
    "player = Joueur(\"Doe\", \"John\", 25, [8, 7, 6, 5, 4], [], [], [1500])\n",
    "print(player)\n",
    "\n",
    "# Testing the player's force\n",
    "print(\"Player's force:\", player.force_joueur())"
   ]
  },
  {
   "cell_type": "markdown",
   "id": "406e0b15",
   "metadata": {},
   "source": [
    "## Test de la Fonction `generer_joueur`\n",
    "Nous allons générer un joueur aléatoire et afficher ses attributs."
   ]
  },
  {
   "cell_type": "code",
   "execution_count": null,
   "id": "f6631dd6",
   "metadata": {},
   "outputs": [],
   "source": [
    "# Génération d'un joueur aléatoire\n",
    "random_player = generer_joueur(\"Random\", \"Player\")\n",
    "print(random_player)"
   ]
  },
  {
   "cell_type": "markdown",
   "id": "62c8bf54",
   "metadata": {},
   "source": [
    "## Test de la Classe `Jeu`\n",
    "Nous allons créer un jeu et afficher ses détails."
   ]
  },
  {
   "cell_type": "code",
   "execution_count": null,
   "id": "79efd8c4",
   "metadata": {},
   "outputs": [],
   "source": [
    "# Création d'un jeu\n",
    "game = Jeu(\"Chess\", 0.3)\n",
    "game.afficher_details()"
   ]
  },
  {
   "cell_type": "markdown",
   "id": "df5f8467",
   "metadata": {},
   "source": [
    "## Test des Fonctions de Tournoi\n",
    "Nous allons simuler un tournoi en round-robin et un tournoi à élimination directe."
   ]
  },
  {
   "cell_type": "code",
   "execution_count": null,
   "id": "7bec510a",
   "metadata": {},
   "outputs": [],
   "source": [
    "# Génération des joueurs\n",
    "players = [generer_joueur(f\"Player{i}\", f\"Test{i}\") for i in range(8)]\n",
    "\n",
    "# Round-robin tournament\n",
    "print(\"Round-robin tournament:\")\n",
    "round_robin_results = tournoi_round_robin(players, game)\n",
    "for player in round_robin_results:\n",
    "    print(player.nom, player.prenom, player.histo_elo[-1])\n",
    "\n",
    "# Elimination tournament\n",
    "print(\"\\nElimination tournament:\")\n",
    "elimination_results = tournoi_eliminatoire(players)\n",
    "for player in elimination_results:\n",
    "    print(player.nom, player.prenom, player.histo_elo[-1])"
   ]
  },
  {
   "cell_type": "markdown",
   "id": "f5b88986",
   "metadata": {},
   "source": [
    "## Test des Fonctions de Visualisation\n",
    "Nous allons visualiser la distribution des compétences des joueurs et des classements Elo."
   ]
  },
  {
   "cell_type": "code",
   "execution_count": null,
   "id": "1fe6bde4",
   "metadata": {},
   "outputs": [],
   "source": [
    "# Visualisation des compétences des joueurs\n",
    "tracer_competences(players)\n",
    "\n",
    "# Visualizing Elo ratings\n",
    "tracer_elo(players)"
   ]
  },
  {
   "cell_type": "markdown",
   "id": "240031b8",
   "metadata": {},
   "source": [
    "## Test de l'Évolution du Classement Elo\n",
    "Nous allons suivre l'évolution du classement Elo d'un joueur au cours de plusieurs tournois."
   ]
  },
  {
   "cell_type": "code",
   "execution_count": null,
   "id": "27795cc4",
   "metadata": {},
   "outputs": [],
   "source": [
    "# Simulation de plusieurs tournois\n",
    "for _ in range(10):\n",
    "    tournoi_round_robin(players, game)\n",
    "\n",
    "# Visualizing Elo evolution for the first player\n",
    "tracer_evolution_elo(players[0])"
   ]
  }
 ],
 "metadata": {
  "language_info": {
   "name": "python"
  }
 },
 "nbformat": 4,
 "nbformat_minor": 5
}
