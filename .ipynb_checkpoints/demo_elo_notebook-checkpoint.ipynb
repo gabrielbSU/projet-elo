{
 "cells": [
  {
   "cell_type": "markdown",
   "id": "94f7ccfd",
   "metadata": {},
   "source": [
    "# Notebook de démonstration - Système Elo pour jeux compétitifs\n",
    "\n",
    "Ce notebook teste toutes les fonctionnalités des modules :\n",
    "- `joueur.py`\n",
    "- `outils.py`\n",
    "- `jeu.py`\n",
    "- `tournoi.py`\n",
    "- `visu.py`\n"
   ]
  },
  {
   "cell_type": "code",
   "execution_count": 1,
   "id": "f860065a",
   "metadata": {
    "tags": []
   },
   "outputs": [],
   "source": [
    "from modele_joueur_cor import *\n",
    "\n",
    "import numpy as np\n",
    "import matplotlib.pyplot as plt\n",
    "import random"
   ]
  },
  {
   "cell_type": "markdown",
   "id": "aa700aee",
   "metadata": {},
   "source": [
    "## 1. Tests du module `joueur.py`"
   ]
  },
  {
   "cell_type": "code",
   "execution_count": null,
   "id": "01f981e6",
   "metadata": {},
   "outputs": [],
   "source": [
    "joueur1 = generer_joueur()\n",
    "joueur2 = generer_joueur()\n",
    "\n",
    "print(\"=== Joueur 1 ===\")\n",
    "print(joueur1)\n",
    "print(\"\\n=== Joueur 2 ===\")\n",
    "print(joueur2)"
   ]
  },
  {
   "cell_type": "code",
   "execution_count": null,
   "id": "d3d3f0ac",
   "metadata": {},
   "outputs": [],
   "source": [
    "jeu_test = Jeu(\"Test\", 0.3)\n",
    "resultat = rencontre_modele1(joueur1, joueur2, jeu_test)\n",
    "print(f\"Résultat: J1={resultat[0]}, J2={resultat[1]}\")"
   ]
  },
  {
   "cell_type": "markdown",
   "id": "acc46fe5",
   "metadata": {},
   "source": [
    "## 2. Tests du module `jeu.py`"
   ]
  },
  {
   "cell_type": "code",
   "execution_count": null,
   "id": "c3ff8ee6",
   "metadata": {},
   "outputs": [],
   "source": [
    "jeu_strategique = Jeu(\"Échecs\", 0.1, 1.0)\n",
    "jeu_aleatoire = Jeu(\"Loto\", 0.9, 0.5)\n",
    "\n",
    "print(jeu_strategique)\n",
    "print(\"\\n\" + str(jeu_aleatoire))"
   ]
  },
  {
   "cell_type": "markdown",
   "id": "659d5459",
   "metadata": {},
   "source": [
    "## 3. Tests du module `outils.py`"
   ]
  },
  {
   "cell_type": "code",
   "execution_count": null,
   "id": "547356af",
   "metadata": {},
   "outputs": [],
   "source": [
    "x = np.linspace(-1, 1, 100)\n",
    "plt.plot(x, sigmoid(x, k=5), label='k=5')\n",
    "plt.plot(x, sigmoid(x, k=10), label='k=10')\n",
    "plt.title(\"Fonction sigmoïde\")\n",
    "plt.legend()\n",
    "plt.show()"
   ]
  },
  {
   "cell_type": "code",
   "execution_count": null,
   "id": "3714702b",
   "metadata": {},
   "outputs": [],
   "source": [
    "print(\"Tirages Bernoulli p=0.3:\", [tirage_bernoulli(0.3) for _ in range(10)])"
   ]
  },
  {
   "cell_type": "markdown",
   "id": "4b7d86a9",
   "metadata": {},
   "source": [
    "## 4. Tests du module `tournoi.py`"
   ]
  },
  {
   "cell_type": "code",
   "execution_count": null,
   "id": "25458c4b",
   "metadata": {},
   "outputs": [],
   "source": [
    "joueurs_tournoi = [generer_joueur(f\"Joueur_{i}\", f\"Prenom_{i}\") for i in range(8)]"
   ]
  },
  {
   "cell_type": "code",
   "execution_count": null,
   "id": "ede72362",
   "metadata": {},
   "outputs": [],
   "source": [
    "classement_rr = tournoi_round_robin(joueurs_tournoi.copy(), jeu_strategique, modele=1)\n",
    "print(\"Classement Round-Robin (Modèle 1):\")\n",
    "for i, joueur in enumerate(classement_rr, 1):\n",
    "    print(f\"{i}. {joueur.nom} - Victoires: {sum(joueur.histo_partie)}\")"
   ]
  },
  {
   "cell_type": "code",
   "execution_count": null,
   "id": "58d2a0d2",
   "metadata": {},
   "outputs": [],
   "source": [
    "classement_suisse = tournoi_suisse(joueurs_tournoi.copy(), jeu_strategique, nb_rounds=5, modele=2)\n",
    "print(\"\\nClassement Suisse (Modèle 2):\")\n",
    "for i, joueur in enumerate(classement_suisse, 1):\n",
    "    print(f\"{i}. {joueur.nom} - Elo: {joueur.histo_elo[-1]:.0f}\")"
   ]
  },
  {
   "cell_type": "markdown",
   "id": "82f0addd",
   "metadata": {},
   "source": [
    "## 5. Tests du module `visu.py`"
   ]
  },
  {
   "cell_type": "code",
   "execution_count": null,
   "id": "3bbfa904",
   "metadata": {},
   "outputs": [],
   "source": [
    "tracer_competences(joueurs_tournoi)"
   ]
  },
  {
   "cell_type": "code",
   "execution_count": null,
   "id": "6a1a1067",
   "metadata": {},
   "outputs": [],
   "source": [
    "tracer_elo(joueurs_tournoi)"
   ]
  },
  {
   "cell_type": "code",
   "execution_count": null,
   "id": "76f96148",
   "metadata": {},
   "outputs": [],
   "source": [
    "tracer_force_elo(joueurs_tournoi)"
   ]
  },
  {
   "cell_type": "code",
   "execution_count": null,
   "id": "51704531",
   "metadata": {},
   "outputs": [],
   "source": [
    "tracer_evolution_elo(joueurs_tournoi[0])"
   ]
  },
  {
   "cell_type": "code",
   "execution_count": null,
   "id": "91b742ac",
   "metadata": {},
   "outputs": [],
   "source": [
    "tracer_comparaison_evolution_elo(joueurs_tournoi[:3])"
   ]
  },
  {
   "cell_type": "code",
   "execution_count": null,
   "id": "87ad62fe",
   "metadata": {},
   "outputs": [],
   "source": [
    "visualiser_plusieurs_sigmoides(k_list=[5, 10, 20, 50])"
   ]
  },
  {
   "cell_type": "code",
   "execution_count": null,
   "id": "4569f668",
   "metadata": {},
   "outputs": [],
   "source": [
    "tracer_isocontours_hasard(taux_de_hasard=0.3)"
   ]
  },
  {
   "cell_type": "code",
   "execution_count": null,
   "id": "d0db8e50",
   "metadata": {},
   "outputs": [],
   "source": [
    "comparer_taux_hasard(taux_liste=[0.1, 0.5, 0.9], impact=1.0)"
   ]
  },
  {
   "cell_type": "markdown",
   "id": "7d4edb02",
   "metadata": {},
   "source": [
    "## 6. Scénario complet"
   ]
  },
  {
   "cell_type": "code",
   "execution_count": null,
   "id": "48fbc398",
   "metadata": {},
   "outputs": [],
   "source": [
    "joueurs_eco = [generer_joueur(f\"Comp_{i}\", f\"P_{i}\") for i in range(20)]\n",
    "jeu_eco = Jeu(\"Jeu Compétitif\", 0.4, 1.2)\n",
    "\n",
    "for _ in range(3):\n",
    "    _ = tournoi_suisse(joueurs_eco, jeu_eco, nb_rounds=5, modele=1)\n",
    "    _ = tournoi_round_robin(random.sample(joueurs_eco, 8), jeu_eco, modele=2)\n",
    "\n",
    "tracer_competences(joueurs_eco)\n",
    "tracer_elo(joueurs_eco)\n",
    "tracer_comparaison_evolution_elo(joueurs_eco[:5])"
   ]
  }
 ],
 "metadata": {
  "kernelspec": {
   "display_name": "Python 3 (ipykernel)",
   "language": "python",
   "name": "python3"
  },
  "language_info": {
   "codemirror_mode": {
    "name": "ipython",
    "version": 3
   },
   "file_extension": ".py",
   "mimetype": "text/x-python",
   "name": "python",
   "nbconvert_exporter": "python",
   "pygments_lexer": "ipython3",
   "version": "3.11.4"
  }
 },
 "nbformat": 4,
 "nbformat_minor": 5
}
