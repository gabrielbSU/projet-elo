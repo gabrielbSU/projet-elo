{
 "cells": [
  {
   "cell_type": "code",
   "execution_count": 5,
   "id": "e8aaf28b-589d-4346-ad1f-fe588a5a4db4",
   "metadata": {
    "tags": []
   },
   "outputs": [
    {
     "name": "stdout",
     "output_type": "stream",
     "text": [
      "920 9080\n"
     ]
    }
   ],
   "source": [
    "from modele_joueur_cor import *\n",
    "\n",
    "import numpy as np\n",
    "import matplotlib.pyplot as plt\n",
    "import random\n",
    "\n",
    "\n",
    "jeu1 = Jeu(\"poker\", 0.1, 2)\n",
    "\n",
    "joueur1 = Joueur(1, [], [], [], [], [])\n",
    "joueur2 = Joueur(0, [], [], [], [], [])\n",
    "\n",
    "tot1 = 0\n",
    "tot2 = 0\n",
    "\n",
    "for _ in range(100) :\n",
    "    resultat = rencontre_simu(joueur1.force, joueur2.force, jeu1)\n",
    "    # print(f\"Résultat: J1={resultat[0]}, J2={resultat[1]}\")\n",
    "    tot1 += resultat[0]\n",
    "    tot2 += resultat[1] \n",
    "    \n",
    "print(tot1,tot2)\n",
    "\n",
    "### PROBLEME sur la simulation des rencontres ###"
   ]
  },
  {
   "cell_type": "code",
   "execution_count": null,
   "id": "e40156e0-52cb-41cd-8878-b69a7a335aba",
   "metadata": {},
   "outputs": [],
   "source": []
  }
 ],
 "metadata": {
  "kernelspec": {
   "display_name": "Python 3 (ipykernel)",
   "language": "python",
   "name": "python3"
  },
  "language_info": {
   "codemirror_mode": {
    "name": "ipython",
    "version": 3
   },
   "file_extension": ".py",
   "mimetype": "text/x-python",
   "name": "python",
   "nbconvert_exporter": "python",
   "pygments_lexer": "ipython3",
   "version": "3.11.4"
  }
 },
 "nbformat": 4,
 "nbformat_minor": 5
}
